{
  "nbformat": 4,
  "nbformat_minor": 0,
  "metadata": {
    "colab": {
      "name": "TUGAS3_AI_1301160774.ipynb",
      "version": "0.3.2",
      "provenance": [],
      "collapsed_sections": [
        "4kZKUupbiYOU"
      ]
    },
    "kernelspec": {
      "name": "python3",
      "display_name": "Python 3"
    }
  },
  "cells": [
    {
      "metadata": {
        "id": "TNUK3CHbYyrX",
        "colab_type": "text"
      },
      "cell_type": "markdown",
      "source": [
        "# TUGAS AI 3"
      ]
    },
    {
      "metadata": {
        "id": "bOUk7JKcYyMo",
        "colab_type": "text"
      },
      "cell_type": "markdown",
      "source": [
        "# Library"
      ]
    },
    {
      "metadata": {
        "id": "yXl3UNffYx3E",
        "colab_type": "code",
        "colab": {}
      },
      "cell_type": "code",
      "source": [
        "import numpy as np\n",
        "import pandas as pd\n",
        "import matplotlib.pyplot as plt"
      ],
      "execution_count": 0,
      "outputs": []
    },
    {
      "metadata": {
        "id": "ypdIQoUQ61DW",
        "colab_type": "text"
      },
      "cell_type": "markdown",
      "source": [
        "# Data"
      ]
    },
    {
      "metadata": {
        "id": "9lou28ma61fm",
        "colab_type": "code",
        "colab": {}
      },
      "cell_type": "code",
      "source": [
        "Data = pd.read_csv('https://drive.google.com/uc?export=download&id=1mwziYdWvfjwZL35fPAmDojc_6x9P1Mvt', sep=';')"
      ],
      "execution_count": 0,
      "outputs": []
    },
    {
      "metadata": {
        "id": "pJd67g4FSkws",
        "colab_type": "text"
      },
      "cell_type": "markdown",
      "source": [
        "## Indexing Data"
      ]
    },
    {
      "metadata": {
        "id": "g6dMGozNSlIS",
        "colab_type": "code",
        "colab": {}
      },
      "cell_type": "code",
      "source": [
        "def indexingData(Data):\n",
        "  id_temp = []   \n",
        "  tes_temp = []\n",
        "  kep_temp = []\n",
        "  diterima_temp = []\n",
        "  for index, row in Data.iterrows():\n",
        "      id_temp.append(row['ID'])\n",
        "      tes_temp.append(row['Tes Kompetensi'])\n",
        "      kep_temp.append(row['Kepribadian'])\n",
        "      diterima_temp.append(row['Diterima'])\n",
        "  return [id_temp,tes_temp,kep_temp,diterima_temp]"
      ],
      "execution_count": 0,
      "outputs": []
    },
    {
      "metadata": {
        "id": "AHO40GNK6-G7",
        "colab_type": "text"
      },
      "cell_type": "markdown",
      "source": [
        "## Data Train"
      ]
    },
    {
      "metadata": {
        "id": "6gCgKK-q6-gl",
        "colab_type": "code",
        "outputId": "10b793ed-b897-4637-d0d5-a1c037a384a9",
        "colab": {
          "base_uri": "https://localhost:8080/",
          "height": 669
        }
      },
      "cell_type": "code",
      "source": [
        "def indexingDataTrain(Data):\n",
        "  rowDataTrain = [Data[0][:20],Data[1][:20],Data[2][:20],Data[3][:20]]\n",
        "  row0Train = rowDataTrain[0]\n",
        "  row1Train = rowDataTrain[1]\n",
        "  row2Train = rowDataTrain[2]\n",
        "  return row0Train, row1Train, row2Train\n",
        "\n",
        "DataTrain = Data[:20]\n",
        "Data.head(20)"
      ],
      "execution_count": 0,
      "outputs": [
        {
          "output_type": "execute_result",
          "data": {
            "text/html": [
              "<div>\n",
              "<style scoped>\n",
              "    .dataframe tbody tr th:only-of-type {\n",
              "        vertical-align: middle;\n",
              "    }\n",
              "\n",
              "    .dataframe tbody tr th {\n",
              "        vertical-align: top;\n",
              "    }\n",
              "\n",
              "    .dataframe thead th {\n",
              "        text-align: right;\n",
              "    }\n",
              "</style>\n",
              "<table border=\"1\" class=\"dataframe\">\n",
              "  <thead>\n",
              "    <tr style=\"text-align: right;\">\n",
              "      <th></th>\n",
              "      <th>ID</th>\n",
              "      <th>Tes Kompetensi</th>\n",
              "      <th>Kepribadian</th>\n",
              "      <th>Diterima</th>\n",
              "    </tr>\n",
              "  </thead>\n",
              "  <tbody>\n",
              "    <tr>\n",
              "      <th>0</th>\n",
              "      <td>P1</td>\n",
              "      <td>61.0</td>\n",
              "      <td>37.5</td>\n",
              "      <td>Tidak</td>\n",
              "    </tr>\n",
              "    <tr>\n",
              "      <th>1</th>\n",
              "      <td>P2</td>\n",
              "      <td>71.0</td>\n",
              "      <td>58.3</td>\n",
              "      <td>Ya</td>\n",
              "    </tr>\n",
              "    <tr>\n",
              "      <th>2</th>\n",
              "      <td>P3</td>\n",
              "      <td>64.0</td>\n",
              "      <td>35.8</td>\n",
              "      <td>Tidak</td>\n",
              "    </tr>\n",
              "    <tr>\n",
              "      <th>3</th>\n",
              "      <td>P4</td>\n",
              "      <td>60.0</td>\n",
              "      <td>51.7</td>\n",
              "      <td>Tidak</td>\n",
              "    </tr>\n",
              "    <tr>\n",
              "      <th>4</th>\n",
              "      <td>P5</td>\n",
              "      <td>73.5</td>\n",
              "      <td>75.0</td>\n",
              "      <td>Ya</td>\n",
              "    </tr>\n",
              "    <tr>\n",
              "      <th>5</th>\n",
              "      <td>P6</td>\n",
              "      <td>66.5</td>\n",
              "      <td>62.5</td>\n",
              "      <td>Ya</td>\n",
              "    </tr>\n",
              "    <tr>\n",
              "      <th>6</th>\n",
              "      <td>P7</td>\n",
              "      <td>82.5</td>\n",
              "      <td>15.0</td>\n",
              "      <td>Tidak</td>\n",
              "    </tr>\n",
              "    <tr>\n",
              "      <th>7</th>\n",
              "      <td>P8</td>\n",
              "      <td>61.0</td>\n",
              "      <td>37.5</td>\n",
              "      <td>Tidak</td>\n",
              "    </tr>\n",
              "    <tr>\n",
              "      <th>8</th>\n",
              "      <td>P9</td>\n",
              "      <td>52.5</td>\n",
              "      <td>54.2</td>\n",
              "      <td>Tidak</td>\n",
              "    </tr>\n",
              "    <tr>\n",
              "      <th>9</th>\n",
              "      <td>P10</td>\n",
              "      <td>57.5</td>\n",
              "      <td>79.2</td>\n",
              "      <td>Ya</td>\n",
              "    </tr>\n",
              "    <tr>\n",
              "      <th>10</th>\n",
              "      <td>P11</td>\n",
              "      <td>72.5</td>\n",
              "      <td>56.7</td>\n",
              "      <td>Ya</td>\n",
              "    </tr>\n",
              "    <tr>\n",
              "      <th>11</th>\n",
              "      <td>P12</td>\n",
              "      <td>73.5</td>\n",
              "      <td>75.0</td>\n",
              "      <td>Ya</td>\n",
              "    </tr>\n",
              "    <tr>\n",
              "      <th>12</th>\n",
              "      <td>P13</td>\n",
              "      <td>50.5</td>\n",
              "      <td>70.8</td>\n",
              "      <td>Ya</td>\n",
              "    </tr>\n",
              "    <tr>\n",
              "      <th>13</th>\n",
              "      <td>P14</td>\n",
              "      <td>62.5</td>\n",
              "      <td>58.3</td>\n",
              "      <td>Tidak</td>\n",
              "    </tr>\n",
              "    <tr>\n",
              "      <th>14</th>\n",
              "      <td>P15</td>\n",
              "      <td>62.5</td>\n",
              "      <td>60.0</td>\n",
              "      <td>Tidak</td>\n",
              "    </tr>\n",
              "    <tr>\n",
              "      <th>15</th>\n",
              "      <td>P16</td>\n",
              "      <td>68.0</td>\n",
              "      <td>20.8</td>\n",
              "      <td>Tidak</td>\n",
              "    </tr>\n",
              "    <tr>\n",
              "      <th>16</th>\n",
              "      <td>P17</td>\n",
              "      <td>38.0</td>\n",
              "      <td>82.5</td>\n",
              "      <td>Ya</td>\n",
              "    </tr>\n",
              "    <tr>\n",
              "      <th>17</th>\n",
              "      <td>P18</td>\n",
              "      <td>52.5</td>\n",
              "      <td>70.8</td>\n",
              "      <td>Tidak</td>\n",
              "    </tr>\n",
              "    <tr>\n",
              "      <th>18</th>\n",
              "      <td>P19</td>\n",
              "      <td>81.0</td>\n",
              "      <td>61.7</td>\n",
              "      <td>Ya</td>\n",
              "    </tr>\n",
              "    <tr>\n",
              "      <th>19</th>\n",
              "      <td>P20</td>\n",
              "      <td>72.0</td>\n",
              "      <td>67.5</td>\n",
              "      <td>Ya</td>\n",
              "    </tr>\n",
              "  </tbody>\n",
              "</table>\n",
              "</div>"
            ],
            "text/plain": [
              "     ID  Tes Kompetensi  Kepribadian Diterima\n",
              "0    P1            61.0         37.5    Tidak\n",
              "1    P2            71.0         58.3       Ya\n",
              "2    P3            64.0         35.8    Tidak\n",
              "3    P4            60.0         51.7    Tidak\n",
              "4    P5            73.5         75.0       Ya\n",
              "5    P6            66.5         62.5       Ya\n",
              "6    P7            82.5         15.0    Tidak\n",
              "7    P8            61.0         37.5    Tidak\n",
              "8    P9            52.5         54.2    Tidak\n",
              "9   P10            57.5         79.2       Ya\n",
              "10  P11            72.5         56.7       Ya\n",
              "11  P12            73.5         75.0       Ya\n",
              "12  P13            50.5         70.8       Ya\n",
              "13  P14            62.5         58.3    Tidak\n",
              "14  P15            62.5         60.0    Tidak\n",
              "15  P16            68.0         20.8    Tidak\n",
              "16  P17            38.0         82.5       Ya\n",
              "17  P18            52.5         70.8    Tidak\n",
              "18  P19            81.0         61.7       Ya\n",
              "19  P20            72.0         67.5       Ya"
            ]
          },
          "metadata": {
            "tags": []
          },
          "execution_count": 501
        }
      ]
    },
    {
      "metadata": {
        "id": "atIQT7Wt6-_R",
        "colab_type": "text"
      },
      "cell_type": "markdown",
      "source": [
        "## Data Test"
      ]
    },
    {
      "metadata": {
        "id": "NzX-wZWc6_fr",
        "colab_type": "code",
        "outputId": "03c00597-1955-4422-ab38-ffce871185a7",
        "colab": {
          "base_uri": "https://localhost:8080/",
          "height": 359
        }
      },
      "cell_type": "code",
      "source": [
        "def indexingDataTest(Data):\n",
        "  rowDataTest = [Data[0][20:],Data[1][20:],Data[2][20:],Data[3][20:]]\n",
        "  row0Test = rowDataTest[0]\n",
        "  row1Test = rowDataTest[1]\n",
        "  row2Test = rowDataTest[2]\n",
        "  return row0Test,row1Test,row2Test\n",
        "\n",
        "DataTest = Data[20:]\n",
        "Data.tail(10)"
      ],
      "execution_count": 0,
      "outputs": [
        {
          "output_type": "execute_result",
          "data": {
            "text/html": [
              "<div>\n",
              "<style scoped>\n",
              "    .dataframe tbody tr th:only-of-type {\n",
              "        vertical-align: middle;\n",
              "    }\n",
              "\n",
              "    .dataframe tbody tr th {\n",
              "        vertical-align: top;\n",
              "    }\n",
              "\n",
              "    .dataframe thead th {\n",
              "        text-align: right;\n",
              "    }\n",
              "</style>\n",
              "<table border=\"1\" class=\"dataframe\">\n",
              "  <thead>\n",
              "    <tr style=\"text-align: right;\">\n",
              "      <th></th>\n",
              "      <th>ID</th>\n",
              "      <th>Tes Kompetensi</th>\n",
              "      <th>Kepribadian</th>\n",
              "      <th>Diterima</th>\n",
              "    </tr>\n",
              "  </thead>\n",
              "  <tbody>\n",
              "    <tr>\n",
              "      <th>20</th>\n",
              "      <td>P21</td>\n",
              "      <td>61.5</td>\n",
              "      <td>52.5</td>\n",
              "      <td>?</td>\n",
              "    </tr>\n",
              "    <tr>\n",
              "      <th>21</th>\n",
              "      <td>P22</td>\n",
              "      <td>66.5</td>\n",
              "      <td>58.3</td>\n",
              "      <td>?</td>\n",
              "    </tr>\n",
              "    <tr>\n",
              "      <th>22</th>\n",
              "      <td>P23</td>\n",
              "      <td>71.0</td>\n",
              "      <td>45.8</td>\n",
              "      <td>?</td>\n",
              "    </tr>\n",
              "    <tr>\n",
              "      <th>23</th>\n",
              "      <td>P24</td>\n",
              "      <td>64.5</td>\n",
              "      <td>55.0</td>\n",
              "      <td>?</td>\n",
              "    </tr>\n",
              "    <tr>\n",
              "      <th>24</th>\n",
              "      <td>P25</td>\n",
              "      <td>57.5</td>\n",
              "      <td>79.2</td>\n",
              "      <td>?</td>\n",
              "    </tr>\n",
              "    <tr>\n",
              "      <th>25</th>\n",
              "      <td>P26</td>\n",
              "      <td>80.0</td>\n",
              "      <td>45.8</td>\n",
              "      <td>?</td>\n",
              "    </tr>\n",
              "    <tr>\n",
              "      <th>26</th>\n",
              "      <td>P27</td>\n",
              "      <td>81.5</td>\n",
              "      <td>53.3</td>\n",
              "      <td>?</td>\n",
              "    </tr>\n",
              "    <tr>\n",
              "      <th>27</th>\n",
              "      <td>P28</td>\n",
              "      <td>61.0</td>\n",
              "      <td>64.2</td>\n",
              "      <td>?</td>\n",
              "    </tr>\n",
              "    <tr>\n",
              "      <th>28</th>\n",
              "      <td>P29</td>\n",
              "      <td>46.0</td>\n",
              "      <td>65.8</td>\n",
              "      <td>?</td>\n",
              "    </tr>\n",
              "    <tr>\n",
              "      <th>29</th>\n",
              "      <td>P30</td>\n",
              "      <td>78.0</td>\n",
              "      <td>49.2</td>\n",
              "      <td>?</td>\n",
              "    </tr>\n",
              "  </tbody>\n",
              "</table>\n",
              "</div>"
            ],
            "text/plain": [
              "     ID  Tes Kompetensi  Kepribadian Diterima\n",
              "20  P21            61.5         52.5        ?\n",
              "21  P22            66.5         58.3        ?\n",
              "22  P23            71.0         45.8        ?\n",
              "23  P24            64.5         55.0        ?\n",
              "24  P25            57.5         79.2        ?\n",
              "25  P26            80.0         45.8        ?\n",
              "26  P27            81.5         53.3        ?\n",
              "27  P28            61.0         64.2        ?\n",
              "28  P29            46.0         65.8        ?\n",
              "29  P30            78.0         49.2        ?"
            ]
          },
          "metadata": {
            "tags": []
          },
          "execution_count": 502
        }
      ]
    },
    {
      "metadata": {
        "id": "VOhPwafDqV6k",
        "colab_type": "code",
        "colab": {}
      },
      "cell_type": "code",
      "source": [
        ""
      ],
      "execution_count": 0,
      "outputs": []
    },
    {
      "metadata": {
        "id": "c_Kgsy-mXY4z",
        "colab_type": "text"
      },
      "cell_type": "markdown",
      "source": [
        "## Akurasi Data"
      ]
    },
    {
      "metadata": {
        "id": "FxizOPGCXZSi",
        "colab_type": "code",
        "colab": {}
      },
      "cell_type": "code",
      "source": [
        "def akurasiData(predict,data):\n",
        "  akurasi = 0\n",
        "  for i in range(len(data)):\n",
        "    if DataTrain['Diterima'][i] == predict[i]:  akurasi += 1\n",
        "  print(\"Akurasi Data Prediksi :\", (akurasi/len(data))*100, \"%\")"
      ],
      "execution_count": 0,
      "outputs": []
    },
    {
      "metadata": {
        "id": "-DJ6RZsJhLPv",
        "colab_type": "text"
      },
      "cell_type": "markdown",
      "source": [
        "# Fuzzy System Method"
      ]
    },
    {
      "metadata": {
        "id": "K9W7NZl8h2Rs",
        "colab_type": "text"
      },
      "cell_type": "markdown",
      "source": [
        "## Method Kompetensi"
      ]
    },
    {
      "metadata": {
        "id": "_m_8JnBvdrcb",
        "colab_type": "text"
      },
      "cell_type": "markdown",
      "source": [
        "### Set Parameter Kompetensi"
      ]
    },
    {
      "metadata": {
        "id": "y_KUF9dXdrz8",
        "colab_type": "code",
        "colab": {}
      },
      "cell_type": "code",
      "source": [
        "def setParameterKompetensi():\n",
        "  print(\"Rendah < Rendah-Sedang < Sedang-Tinggi < Tinggi\")\n",
        "  print()\n",
        "  aKom = float(input(\"Parameter Rendah : \"))\n",
        "  bKom = float(input(\"Parameter Rendah-Sedang : \"))\n",
        "  cKom = float(input(\"Parameter Sedang-Tinggi : \"))\n",
        "  dKom = float(input(\"Parameter Tinggi : \"))\n",
        "  return aKom,bKom,cKom,dKom\n",
        "  "
      ],
      "execution_count": 0,
      "outputs": []
    },
    {
      "metadata": {
        "id": "NngdAsCLhdcs",
        "colab_type": "text"
      },
      "cell_type": "markdown",
      "source": [
        "### Rendah"
      ]
    },
    {
      "metadata": {
        "id": "aRT4RQpBheYl",
        "colab_type": "code",
        "colab": {}
      },
      "cell_type": "code",
      "source": [
        "def kompetensiRendah(x,aKom,bKom):\n",
        "    if (x < aKom ): \n",
        "      return 1\n",
        "    elif (x < bKom): \n",
        "      return (-((x - bKom) / (bKom - aKom)))\n",
        "    else: \n",
        "      return 0"
      ],
      "execution_count": 0,
      "outputs": []
    },
    {
      "metadata": {
        "id": "LLAWmGREkTJ_",
        "colab_type": "text"
      },
      "cell_type": "markdown",
      "source": [
        "### Sedang"
      ]
    },
    {
      "metadata": {
        "id": "RQ5cAqEkkTip",
        "colab_type": "code",
        "colab": {}
      },
      "cell_type": "code",
      "source": [
        "def kompetensiSedang(x,aKom,bKom,cKom,dKom):\n",
        "    if (aKom < x <= bKom): \n",
        "      return ((x - aKom) / (bKom - aKom))\n",
        "    elif (bKom < x <= cKom):\n",
        "      return 1\n",
        "    elif (cKom < x <= dKom): \n",
        "      return (-((x - dKom) / (dKom - cKom)))\n",
        "    else: \n",
        "      return 0"
      ],
      "execution_count": 0,
      "outputs": []
    },
    {
      "metadata": {
        "id": "L0FoMFWBhmvB",
        "colab_type": "text"
      },
      "cell_type": "markdown",
      "source": [
        "### Tinggi"
      ]
    },
    {
      "metadata": {
        "id": "lLD8c1tVhnTz",
        "colab_type": "code",
        "colab": {}
      },
      "cell_type": "code",
      "source": [
        "def kompetensiTinggi(x,cKom,dKom):\n",
        "    if (x < cKom): \n",
        "      return 0\n",
        "    elif (x > dKom): \n",
        "      return 1\n",
        "    else: \n",
        "      return ((x - cKom) / (dKom - cKom))"
      ],
      "execution_count": 0,
      "outputs": []
    },
    {
      "metadata": {
        "id": "T6l9y345hnz_",
        "colab_type": "text"
      },
      "cell_type": "markdown",
      "source": [
        "### Fungsi Grafik Kompetensi"
      ]
    },
    {
      "metadata": {
        "id": "jpPklLgRhoLo",
        "colab_type": "code",
        "colab": {}
      },
      "cell_type": "code",
      "source": [
        "def grafikKompetensi(s,aKom,bKom,cKom,dKom):\n",
        "    kompetensiRange = np.arange(0, s, 1)\n",
        "    plt.plot(kompetensiRange, [kompetensiRendah(x,aKom,bKom) for x in kompetensiRange], color='Cyan', label='Rendah')\n",
        "    plt.plot(kompetensiRange, [kompetensiSedang(x,aKom,bKom,cKom,dKom) for x in kompetensiRange], color='Magenta', label='Sedang')\n",
        "    plt.plot(kompetensiRange, [kompetensiTinggi(x,cKom,dKom) for x in kompetensiRange], color='Black', label='Tinggi')\n",
        "    plt.legend()\n",
        "    plt.show()"
      ],
      "execution_count": 0,
      "outputs": []
    },
    {
      "metadata": {
        "id": "u9IOxDA3hont",
        "colab_type": "text"
      },
      "cell_type": "markdown",
      "source": [
        "##Method Kepribadian"
      ]
    },
    {
      "metadata": {
        "id": "3rhqKcpvmAdI",
        "colab_type": "text"
      },
      "cell_type": "markdown",
      "source": [
        "### Set Parameter Kepribadian"
      ]
    },
    {
      "metadata": {
        "id": "bHZIgfqzmA4C",
        "colab_type": "code",
        "colab": {}
      },
      "cell_type": "code",
      "source": [
        "def setParameterKepribadian():\n",
        "    print(\"Parameter < Skala\")\n",
        "    print(\"Buruk < Buruk-Cukup < Cukup-Baik < Baik\")\n",
        "    aKep = float(input(\"Parameter Buruk : \"))\n",
        "    bKep = float(input(\"Parameter Buruk-Cukup : \"))\n",
        "    cKep = float(input(\"Parameter Cukup-Baik : \"))\n",
        "    dKep = float(input(\"Parameter Baik : \"))\n",
        "    return aKep,bKep,cKep,dKep"
      ],
      "execution_count": 0,
      "outputs": []
    },
    {
      "metadata": {
        "id": "RTkJxsbFiQJt",
        "colab_type": "text"
      },
      "cell_type": "markdown",
      "source": [
        "### Buruk"
      ]
    },
    {
      "metadata": {
        "id": "_Th2tdcEho9u",
        "colab_type": "code",
        "colab": {}
      },
      "cell_type": "code",
      "source": [
        "def kepribadianBuruk(x,aKep,bKep):\n",
        "    if (x < aKep): \n",
        "      return 1\n",
        "    elif (x < bKep): \n",
        "      return (-((x - bKep) / (bKep - aKep)))\n",
        "    else: \n",
        "      return 0"
      ],
      "execution_count": 0,
      "outputs": []
    },
    {
      "metadata": {
        "id": "520EzyuFhpPm",
        "colab_type": "text"
      },
      "cell_type": "markdown",
      "source": [
        "### Cukup"
      ]
    },
    {
      "metadata": {
        "id": "Y-_HM6_thpnE",
        "colab_type": "code",
        "colab": {}
      },
      "cell_type": "code",
      "source": [
        "def kepribadianCukup(x,aKep,bKep,cKep,dKep):\n",
        "    if (aKep < x <= bKep): \n",
        "      return ((x - aKep) / (bKep - aKep))\n",
        "    elif (bKep < x <= cKep):\n",
        "      return 1\n",
        "    elif (cKep < x <= dKep): \n",
        "      return (-((x - dKep) / (dKep - cKep)))\n",
        "    else: \n",
        "      return 0"
      ],
      "execution_count": 0,
      "outputs": []
    },
    {
      "metadata": {
        "id": "LwI-6AtShqNv",
        "colab_type": "text"
      },
      "cell_type": "markdown",
      "source": [
        "### Baik"
      ]
    },
    {
      "metadata": {
        "id": "PykW0kschqkY",
        "colab_type": "code",
        "colab": {}
      },
      "cell_type": "code",
      "source": [
        "def kepribadianBaik(x,cKep,dKep):\n",
        "    if (x < cKep): \n",
        "      return 0\n",
        "    elif (x > dKep): \n",
        "      return 1\n",
        "    else: \n",
        "      return ((x - cKep) / (dKep - cKep))"
      ],
      "execution_count": 0,
      "outputs": []
    },
    {
      "metadata": {
        "id": "ROU1sOi8iXal",
        "colab_type": "text"
      },
      "cell_type": "markdown",
      "source": [
        "###Fungsi Grafik Kepribadian"
      ]
    },
    {
      "metadata": {
        "id": "wjTuvdhciXx2",
        "colab_type": "code",
        "colab": {}
      },
      "cell_type": "code",
      "source": [
        "def grafikKepribadian(s,aKep,bKep,cKep,dKep):\n",
        "    kepribadianRange = np.arange(0, s ,1)\n",
        "    plt.plot(kepribadianRange, [kepribadianBuruk(x,aKep,bKep) for x in kepribadianRange], color='Cyan', label='Buruk')\n",
        "    plt.plot(kepribadianRange, [kepribadianCukup(x,aKep,bKep,cKep,dKep) for x in kepribadianRange], color='Magenta', label='Cukup')\n",
        "    plt.plot(kepribadianRange, [kepribadianBaik(x,cKep,dKep) for x in kepribadianRange], color='Black', label='Baik')\n",
        "    plt.legend()\n",
        "    plt.show()"
      ],
      "execution_count": 0,
      "outputs": []
    },
    {
      "metadata": {
        "id": "4kZKUupbiYOU",
        "colab_type": "text"
      },
      "cell_type": "markdown",
      "source": [
        "## Method Model Mamdani"
      ]
    },
    {
      "metadata": {
        "id": "KdPn7N-QiYkh",
        "colab_type": "code",
        "colab": {}
      },
      "cell_type": "code",
      "source": [
        "def mamdani(Tidak, Ya) :\n",
        "    titikTidak = 10+20+30+40+50+60\n",
        "    titikYa = 70+80+90+100\n",
        "    return ((titikTidak * Tidak  + titikYa * Ya) / (6 * Tidak + 4 * Ya))"
      ],
      "execution_count": 0,
      "outputs": []
    },
    {
      "metadata": {
        "id": "u5Iho857aXIO",
        "colab_type": "text"
      },
      "cell_type": "markdown",
      "source": [
        "## Method Fuzzy List"
      ]
    },
    {
      "metadata": {
        "id": "Awp1Vr9XaW5Q",
        "colab_type": "code",
        "colab": {}
      },
      "cell_type": "code",
      "source": [
        "def fuzzyList(data,aKom,bKom,cKom,dKom,aKep,bKep,cKep,dKep):\t\n",
        "    ListKompetensi = []\n",
        "    ListKepribadian = []\n",
        "\n",
        "    for i, n in data.iterrows():\n",
        "      Kompetensi = {        \n",
        "        \"Rendah\" : kompetensiRendah(n['Tes Kompetensi'],aKom,bKom),\n",
        "        \"Sedang\" : kompetensiSedang(n['Tes Kompetensi'],aKom,bKom,cKom,dKom),\n",
        "        \"Tinggi\" : kompetensiTinggi(n['Tes Kompetensi'],cKom,dKom)\n",
        "      }\n",
        "      ListKompetensi.append(Kompetensi)\n",
        "\n",
        "      Kepribadian = {\n",
        "        \"Buruk\" : kepribadianBuruk(n['Kepribadian'],aKep,bKep),\n",
        "        \"Cukup\" : kepribadianCukup(n['Kepribadian'],aKep,bKep,cKep,dKep),\n",
        "        \"Baik\" : kepribadianBaik(n['Kepribadian'],cKep,dKep)\n",
        "      }\n",
        "      ListKepribadian.append(Kepribadian)\n",
        "\n",
        "    return ListKompetensi, ListKepribadian"
      ],
      "execution_count": 0,
      "outputs": []
    },
    {
      "metadata": {
        "id": "tfsE3Q0neEWJ",
        "colab_type": "text"
      },
      "cell_type": "markdown",
      "source": [
        "## Method Fuzzy Rules"
      ]
    },
    {
      "metadata": {
        "id": "uPEEqTdMiZMr",
        "colab_type": "code",
        "colab": {}
      },
      "cell_type": "code",
      "source": [
        "def fuzzyLogic(data,aKom,bKom,cKom,dKom,aKep,bKep,cKep,dKep):\n",
        "    kompetensi, kepribadian = fuzzyList(data,aKom,bKom,cKom,dKom,aKep,bKep,cKep,dKep)\t\n",
        "    kelayakan = []\n",
        "    for x in range(len(data)) :\n",
        "      tidak = []\n",
        "      ya = []\n",
        "      tidak.append(np.minimum(kompetensi[x][\"Rendah\"], kepribadian[x][\"Buruk\"]))\n",
        "      tidak.append(np.minimum(kompetensi[x][\"Sedang\"], kepribadian[x][\"Buruk\"]))\n",
        "      tidak.append(np.minimum(kompetensi[x][\"Tinggi\"], kepribadian[x][\"Buruk\"]))\n",
        "      \n",
        "      tidak.append(np.minimum(kompetensi[x][\"Rendah\"], kepribadian[x][\"Cukup\"]))\n",
        "      ya.append(np.minimum(kompetensi[x][\"Sedang\"], kepribadian[x][\"Cukup\"]))\n",
        "      ya.append(np.minimum(kompetensi[x][\"Tinggi\"], kepribadian[x][\"Cukup\"]))\n",
        "      \n",
        "      tidak.append(np.minimum(kompetensi[x][\"Rendah\"], kepribadian[x][\"Baik\"]))\n",
        "      ya.append(np.minimum(kompetensi[x][\"Sedang\"], kepribadian[x][\"Baik\"]))\n",
        "      ya.append(np.minimum(kompetensi[x][\"Tinggi\"], kepribadian[x][\"Baik\"]))\n",
        "      listK = {\"Tidak\" : np.max(tidak),\"Ya\" : np.max(ya)}\n",
        "      kelayakan.append(listK)\n",
        "    return kelayakan\n"
      ],
      "execution_count": 0,
      "outputs": []
    },
    {
      "metadata": {
        "id": "UAfzoY2DaTan",
        "colab_type": "text"
      },
      "cell_type": "markdown",
      "source": [
        "## Method Defuzzyfication"
      ]
    },
    {
      "metadata": {
        "id": "K6Iz34B6ybqC",
        "colab_type": "code",
        "colab": {}
      },
      "cell_type": "code",
      "source": [
        "def defuzzyfication(data,aKom,bKom,cKom,dKom,aKep,bKep,cKep,dKep):\n",
        "    kelayakan = fuzzyLogic(data,aKom,bKom,cKom,dKom,aKep,bKep,cKep,dKep)\n",
        "    listNilaiKelayakan = []\n",
        "    for i in range(len(data)) :\n",
        "      NilaiKelayakan = mamdani(kelayakan[i]['Tidak'], kelayakan[i]['Ya'])\n",
        "      if NilaiKelayakan < 60: \n",
        "        listNilaiKelayakan.append('Tidak')\n",
        "      else: \n",
        "        listNilaiKelayakan.append('Ya')\n",
        "    return listNilaiKelayakan"
      ],
      "execution_count": 0,
      "outputs": []
    },
    {
      "metadata": {
        "id": "mpGKW2K4jAWP",
        "colab_type": "text"
      },
      "cell_type": "markdown",
      "source": [
        "# Main program"
      ]
    },
    {
      "metadata": {
        "id": "c4iXzHWdlD01",
        "colab_type": "text"
      },
      "cell_type": "markdown",
      "source": [
        "## Kompetensi"
      ]
    },
    {
      "metadata": {
        "id": "qMVYPXw1jvDb",
        "colab_type": "code",
        "outputId": "9caac178-a0d1-4257-ce8c-8a290965cc48",
        "colab": {
          "base_uri": "https://localhost:8080/",
          "height": 388
        }
      },
      "cell_type": "code",
      "source": [
        "sKom = int(input(\"Skala Kompetensi (0-n) : \"))\n",
        "aKom,bKom,cKom,dKom = setParameterKompetensi()\n",
        "grafikKompetensi(sKom,aKom,bKom,cKom,dKom)"
      ],
      "execution_count": 0,
      "outputs": [
        {
          "output_type": "stream",
          "text": [
            "Skala Kompetensi (0-n) : 100\n",
            "Rendah < Rendah-Sedang < Sedang-Tinggi < Tinggi\n",
            "\n",
            "Parameter Rendah : 60\n",
            "Parameter Rendah-Sedang : 70\n",
            "Parameter Sedang-Tinggi : 80\n",
            "Parameter Tinggi : 90\n"
          ],
          "name": "stdout"
        },
        {
          "output_type": "display_data",
          "data": {
            "image/png": "[encoded data removed]",
            "text/plain": [
              "<Figure size 432x288 with 1 Axes>"
            ]
          },
          "metadata": {
            "tags": []
          }
        }
      ]
    },
    {
      "metadata": {
        "id": "2QroY9gblUvR",
        "colab_type": "text"
      },
      "cell_type": "markdown",
      "source": [
        "## Kepribadian"
      ]
    },
    {
      "metadata": {
        "id": "SvIYtGoQh8Or",
        "colab_type": "code",
        "outputId": "9718e00d-a70b-40ec-ac1d-b08434fa64a6",
        "colab": {
          "base_uri": "https://localhost:8080/",
          "height": 388
        }
      },
      "cell_type": "code",
      "source": [
        "sKep = float(input(\"Skala Kepribadian (0-n) : \"))\n",
        "aKep,bKep,cKep,dKep = setParameterKepribadian()\n",
        "grafikKepribadian(sKep,aKep,bKep,cKep,dKep)"
      ],
      "execution_count": 0,
      "outputs": [
        {
          "output_type": "stream",
          "text": [
            "Skala Kepribadian (0-n) : 100\n",
            "Parameter < Skala\n",
            "Buruk < Buruk-Cukup < Cukup-Baik < Baik\n",
            "Parameter Buruk : 55\n",
            "Parameter Buruk-Cukup : 65\n",
            "Parameter Cukup-Baik : 75\n",
            "Parameter Baik : 85\n"
          ],
          "name": "stdout"
        },
        {
          "output_type": "display_data",
          "data": {
            "image/png": "[encoded data removed]",
            "text/plain": [
              "<Figure size 432x288 with 1 Axes>"
            ]
          },
          "metadata": {
            "tags": []
          }
        }
      ]
    },
    {
      "metadata": {
        "id": "RPOauUMUiqS0",
        "colab_type": "text"
      },
      "cell_type": "markdown",
      "source": [
        "## Indexing"
      ]
    },
    {
      "metadata": {
        "id": "cbC--Gl0irOP",
        "colab_type": "code",
        "colab": {}
      },
      "cell_type": "code",
      "source": [
        "data_temp = indexingData(Data)\n",
        "row0Train, row1Train, row2Train = indexingDataTrain(data_temp)\n",
        "row0Test, row1Test, row2Test = indexingDataTest(data_temp)"
      ],
      "execution_count": 0,
      "outputs": []
    },
    {
      "metadata": {
        "id": "-dm7rfej0M_H",
        "colab_type": "text"
      },
      "cell_type": "markdown",
      "source": [
        "## Prediksi Data"
      ]
    },
    {
      "metadata": {
        "id": "aoCDI0O3mD3d",
        "colab_type": "code",
        "outputId": "fdf3d6ea-0c72-47dd-d240-d8f2bcf840d6",
        "colab": {
          "base_uri": "https://localhost:8080/",
          "height": 669
        }
      },
      "cell_type": "code",
      "source": [
        "listPrediction = defuzzyfication(DataTrain,aKom,bKom,cKom,dKom,aKep,bKep,cKep,dKep)\n",
        "resultPrediction_temp = { 'ID': row0Train , 'Tes Kompetensi' : row1Train ,'Kepribadian' : row2Train ,'Diterima': listPrediction}\n",
        "resultPrediction = pd.DataFrame(resultPrediction_temp)\n",
        "resultPrediction.head(len(resultPrediction))"
      ],
      "execution_count": 0,
      "outputs": [
        {
          "output_type": "execute_result",
          "data": {
            "text/html": [
              "<div>\n",
              "<style scoped>\n",
              "    .dataframe tbody tr th:only-of-type {\n",
              "        vertical-align: middle;\n",
              "    }\n",
              "\n",
              "    .dataframe tbody tr th {\n",
              "        vertical-align: top;\n",
              "    }\n",
              "\n",
              "    .dataframe thead th {\n",
              "        text-align: right;\n",
              "    }\n",
              "</style>\n",
              "<table border=\"1\" class=\"dataframe\">\n",
              "  <thead>\n",
              "    <tr style=\"text-align: right;\">\n",
              "      <th></th>\n",
              "      <th>ID</th>\n",
              "      <th>Tes Kompetensi</th>\n",
              "      <th>Kepribadian</th>\n",
              "      <th>Diterima</th>\n",
              "    </tr>\n",
              "  </thead>\n",
              "  <tbody>\n",
              "    <tr>\n",
              "      <th>0</th>\n",
              "      <td>P1</td>\n",
              "      <td>61.0</td>\n",
              "      <td>37.5</td>\n",
              "      <td>Tidak</td>\n",
              "    </tr>\n",
              "    <tr>\n",
              "      <th>1</th>\n",
              "      <td>P2</td>\n",
              "      <td>71.0</td>\n",
              "      <td>58.3</td>\n",
              "      <td>Tidak</td>\n",
              "    </tr>\n",
              "    <tr>\n",
              "      <th>2</th>\n",
              "      <td>P3</td>\n",
              "      <td>64.0</td>\n",
              "      <td>35.8</td>\n",
              "      <td>Tidak</td>\n",
              "    </tr>\n",
              "    <tr>\n",
              "      <th>3</th>\n",
              "      <td>P4</td>\n",
              "      <td>60.0</td>\n",
              "      <td>51.7</td>\n",
              "      <td>Tidak</td>\n",
              "    </tr>\n",
              "    <tr>\n",
              "      <th>4</th>\n",
              "      <td>P5</td>\n",
              "      <td>73.5</td>\n",
              "      <td>75.0</td>\n",
              "      <td>Ya</td>\n",
              "    </tr>\n",
              "    <tr>\n",
              "      <th>5</th>\n",
              "      <td>P6</td>\n",
              "      <td>66.5</td>\n",
              "      <td>62.5</td>\n",
              "      <td>Ya</td>\n",
              "    </tr>\n",
              "    <tr>\n",
              "      <th>6</th>\n",
              "      <td>P7</td>\n",
              "      <td>82.5</td>\n",
              "      <td>15.0</td>\n",
              "      <td>Tidak</td>\n",
              "    </tr>\n",
              "    <tr>\n",
              "      <th>7</th>\n",
              "      <td>P8</td>\n",
              "      <td>61.0</td>\n",
              "      <td>37.5</td>\n",
              "      <td>Tidak</td>\n",
              "    </tr>\n",
              "    <tr>\n",
              "      <th>8</th>\n",
              "      <td>P9</td>\n",
              "      <td>52.5</td>\n",
              "      <td>54.2</td>\n",
              "      <td>Tidak</td>\n",
              "    </tr>\n",
              "    <tr>\n",
              "      <th>9</th>\n",
              "      <td>P10</td>\n",
              "      <td>57.5</td>\n",
              "      <td>79.2</td>\n",
              "      <td>Tidak</td>\n",
              "    </tr>\n",
              "    <tr>\n",
              "      <th>10</th>\n",
              "      <td>P11</td>\n",
              "      <td>72.5</td>\n",
              "      <td>56.7</td>\n",
              "      <td>Tidak</td>\n",
              "    </tr>\n",
              "    <tr>\n",
              "      <th>11</th>\n",
              "      <td>P12</td>\n",
              "      <td>73.5</td>\n",
              "      <td>75.0</td>\n",
              "      <td>Ya</td>\n",
              "    </tr>\n",
              "    <tr>\n",
              "      <th>12</th>\n",
              "      <td>P13</td>\n",
              "      <td>50.5</td>\n",
              "      <td>70.8</td>\n",
              "      <td>Tidak</td>\n",
              "    </tr>\n",
              "    <tr>\n",
              "      <th>13</th>\n",
              "      <td>P14</td>\n",
              "      <td>62.5</td>\n",
              "      <td>58.3</td>\n",
              "      <td>Tidak</td>\n",
              "    </tr>\n",
              "    <tr>\n",
              "      <th>14</th>\n",
              "      <td>P15</td>\n",
              "      <td>62.5</td>\n",
              "      <td>60.0</td>\n",
              "      <td>Tidak</td>\n",
              "    </tr>\n",
              "    <tr>\n",
              "      <th>15</th>\n",
              "      <td>P16</td>\n",
              "      <td>68.0</td>\n",
              "      <td>20.8</td>\n",
              "      <td>Tidak</td>\n",
              "    </tr>\n",
              "    <tr>\n",
              "      <th>16</th>\n",
              "      <td>P17</td>\n",
              "      <td>38.0</td>\n",
              "      <td>82.5</td>\n",
              "      <td>Tidak</td>\n",
              "    </tr>\n",
              "    <tr>\n",
              "      <th>17</th>\n",
              "      <td>P18</td>\n",
              "      <td>52.5</td>\n",
              "      <td>70.8</td>\n",
              "      <td>Tidak</td>\n",
              "    </tr>\n",
              "    <tr>\n",
              "      <th>18</th>\n",
              "      <td>P19</td>\n",
              "      <td>81.0</td>\n",
              "      <td>61.7</td>\n",
              "      <td>Ya</td>\n",
              "    </tr>\n",
              "    <tr>\n",
              "      <th>19</th>\n",
              "      <td>P20</td>\n",
              "      <td>72.0</td>\n",
              "      <td>67.5</td>\n",
              "      <td>Ya</td>\n",
              "    </tr>\n",
              "  </tbody>\n",
              "</table>\n",
              "</div>"
            ],
            "text/plain": [
              "     ID  Tes Kompetensi  Kepribadian Diterima\n",
              "0    P1            61.0         37.5    Tidak\n",
              "1    P2            71.0         58.3    Tidak\n",
              "2    P3            64.0         35.8    Tidak\n",
              "3    P4            60.0         51.7    Tidak\n",
              "4    P5            73.5         75.0       Ya\n",
              "5    P6            66.5         62.5       Ya\n",
              "6    P7            82.5         15.0    Tidak\n",
              "7    P8            61.0         37.5    Tidak\n",
              "8    P9            52.5         54.2    Tidak\n",
              "9   P10            57.5         79.2    Tidak\n",
              "10  P11            72.5         56.7    Tidak\n",
              "11  P12            73.5         75.0       Ya\n",
              "12  P13            50.5         70.8    Tidak\n",
              "13  P14            62.5         58.3    Tidak\n",
              "14  P15            62.5         60.0    Tidak\n",
              "15  P16            68.0         20.8    Tidak\n",
              "16  P17            38.0         82.5    Tidak\n",
              "17  P18            52.5         70.8    Tidak\n",
              "18  P19            81.0         61.7       Ya\n",
              "19  P20            72.0         67.5       Ya"
            ]
          },
          "metadata": {
            "tags": []
          },
          "execution_count": 527
        }
      ]
    },
    {
      "metadata": {
        "id": "4yWeX9KL0R8Q",
        "colab_type": "text"
      },
      "cell_type": "markdown",
      "source": [
        "### Akurasi Data Prediksi"
      ]
    },
    {
      "metadata": {
        "id": "CvAqSnXmlcQv",
        "colab_type": "code",
        "outputId": "9a77b1a4-f4f8-45ee-ba28-bd481bc50b6d",
        "colab": {
          "base_uri": "https://localhost:8080/",
          "height": 34
        }
      },
      "cell_type": "code",
      "source": [
        "akurasiData(listPrediction,DataTrain)"
      ],
      "execution_count": 0,
      "outputs": [
        {
          "output_type": "stream",
          "text": [
            "Akurasi Data Prediksi : 75.0 %\n"
          ],
          "name": "stdout"
        }
      ]
    },
    {
      "metadata": {
        "id": "4Vzmh_VP0VJZ",
        "colab_type": "text"
      },
      "cell_type": "markdown",
      "source": [
        "# Output"
      ]
    },
    {
      "metadata": {
        "id": "4kWvU3rHVqXf",
        "colab_type": "code",
        "outputId": "6f072afb-41ea-46bc-93e0-46be7b127db9",
        "colab": {
          "base_uri": "https://localhost:8080/",
          "height": 359
        }
      },
      "cell_type": "code",
      "source": [
        "listResultDataTest = defuzzyfication(DataTest,aKom,bKom,cKom,dKom,aKep,bKep,cKep,dKep)\n",
        "resultDataTest_tempp = { 'ID': row0Test , 'Tes Kompetensi' : row1Test ,'Kepribadian' : row2Test ,'Diterima': listResultDataTest}\n",
        "resultDataTest = pd.DataFrame(resultDataTest_tempp)\n",
        "resultDataTest.head(len(resultDataTest))"
      ],
      "execution_count": 0,
      "outputs": [
        {
          "output_type": "execute_result",
          "data": {
            "text/html": [
              "<div>\n",
              "<style scoped>\n",
              "    .dataframe tbody tr th:only-of-type {\n",
              "        vertical-align: middle;\n",
              "    }\n",
              "\n",
              "    .dataframe tbody tr th {\n",
              "        vertical-align: top;\n",
              "    }\n",
              "\n",
              "    .dataframe thead th {\n",
              "        text-align: right;\n",
              "    }\n",
              "</style>\n",
              "<table border=\"1\" class=\"dataframe\">\n",
              "  <thead>\n",
              "    <tr style=\"text-align: right;\">\n",
              "      <th></th>\n",
              "      <th>ID</th>\n",
              "      <th>Tes Kompetensi</th>\n",
              "      <th>Kepribadian</th>\n",
              "      <th>Diterima</th>\n",
              "    </tr>\n",
              "  </thead>\n",
              "  <tbody>\n",
              "    <tr>\n",
              "      <th>0</th>\n",
              "      <td>P21</td>\n",
              "      <td>61.5</td>\n",
              "      <td>52.5</td>\n",
              "      <td>Tidak</td>\n",
              "    </tr>\n",
              "    <tr>\n",
              "      <th>1</th>\n",
              "      <td>P22</td>\n",
              "      <td>66.5</td>\n",
              "      <td>58.3</td>\n",
              "      <td>Tidak</td>\n",
              "    </tr>\n",
              "    <tr>\n",
              "      <th>2</th>\n",
              "      <td>P23</td>\n",
              "      <td>71.0</td>\n",
              "      <td>45.8</td>\n",
              "      <td>Tidak</td>\n",
              "    </tr>\n",
              "    <tr>\n",
              "      <th>3</th>\n",
              "      <td>P24</td>\n",
              "      <td>64.5</td>\n",
              "      <td>55.0</td>\n",
              "      <td>Tidak</td>\n",
              "    </tr>\n",
              "    <tr>\n",
              "      <th>4</th>\n",
              "      <td>P25</td>\n",
              "      <td>57.5</td>\n",
              "      <td>79.2</td>\n",
              "      <td>Tidak</td>\n",
              "    </tr>\n",
              "    <tr>\n",
              "      <th>5</th>\n",
              "      <td>P26</td>\n",
              "      <td>80.0</td>\n",
              "      <td>45.8</td>\n",
              "      <td>Tidak</td>\n",
              "    </tr>\n",
              "    <tr>\n",
              "      <th>6</th>\n",
              "      <td>P27</td>\n",
              "      <td>81.5</td>\n",
              "      <td>53.3</td>\n",
              "      <td>Tidak</td>\n",
              "    </tr>\n",
              "    <tr>\n",
              "      <th>7</th>\n",
              "      <td>P28</td>\n",
              "      <td>61.0</td>\n",
              "      <td>64.2</td>\n",
              "      <td>Tidak</td>\n",
              "    </tr>\n",
              "    <tr>\n",
              "      <th>8</th>\n",
              "      <td>P29</td>\n",
              "      <td>46.0</td>\n",
              "      <td>65.8</td>\n",
              "      <td>Tidak</td>\n",
              "    </tr>\n",
              "    <tr>\n",
              "      <th>9</th>\n",
              "      <td>P30</td>\n",
              "      <td>78.0</td>\n",
              "      <td>49.2</td>\n",
              "      <td>Tidak</td>\n",
              "    </tr>\n",
              "  </tbody>\n",
              "</table>\n",
              "</div>"
            ],
            "text/plain": [
              "    ID  Tes Kompetensi  Kepribadian Diterima\n",
              "0  P21            61.5         52.5    Tidak\n",
              "1  P22            66.5         58.3    Tidak\n",
              "2  P23            71.0         45.8    Tidak\n",
              "3  P24            64.5         55.0    Tidak\n",
              "4  P25            57.5         79.2    Tidak\n",
              "5  P26            80.0         45.8    Tidak\n",
              "6  P27            81.5         53.3    Tidak\n",
              "7  P28            61.0         64.2    Tidak\n",
              "8  P29            46.0         65.8    Tidak\n",
              "9  P30            78.0         49.2    Tidak"
            ]
          },
          "metadata": {
            "tags": []
          },
          "execution_count": 529
        }
      ]
    }
  ]
}